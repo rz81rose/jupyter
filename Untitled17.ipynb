{
 "cells": [
  {
   "cell_type": "code",
   "execution_count": 45,
   "id": "4c396183-c64d-4f3b-87e1-ea41a952e379",
   "metadata": {},
   "outputs": [
    {
     "name": "stdin",
     "output_type": "stream",
     "text": [
      "enter your numbers:  1 2 3 5 \n",
      "enter your numbers:  5\n"
     ]
    },
    {
     "name": "stdout",
     "output_type": "stream",
     "text": [
      "1\n",
      "3\n",
      "5\n",
      "other_list<k\n"
     ]
    }
   ],
   "source": [
    "user_list= (input(\"enter your numbers: \")).split()\n",
    "user_list= list(map(int,user_list))\n",
    "k=0\n",
    "other_list=int(input(\"enter your numbers: \"))\n",
    "for i in user_list:\n",
    "    if i %2 != 0:\n",
    "        print(i)\n",
    "        k+=i\n",
    "if other_list >k:\n",
    "    print(\"other_list >k\")\n",
    "elif other_list<k:\n",
    "    print(\"other_list<k\")\n",
    "elif other_list==k:   \n",
    "    print(\"other_list==k\")       "
   ]
  },
  {
   "cell_type": "code",
   "execution_count": 53,
   "id": "39e7695d-c518-4601-b3fc-555c2494f1ae",
   "metadata": {},
   "outputs": [
    {
     "name": "stdout",
     "output_type": "stream",
     "text": [
      "A B C D E F G H I J K L M N O P Q R S T U V W X Y Z "
     ]
    }
   ],
   "source": [
    "for i in range (65,91):\n",
    "    print(chr(i),end= \" \")"
   ]
  },
  {
   "cell_type": "code",
   "execution_count": 74,
   "id": "f7c05091-41ad-45f5-88ce-889ff6586cde",
   "metadata": {},
   "outputs": [
    {
     "name": "stdin",
     "output_type": "stream",
     "text": [
      "enter a num 1 2 3 4 \n"
     ]
    },
    {
     "ename": "ValueError",
     "evalue": "could not convert string to float: '1 2 3 4 '",
     "output_type": "error",
     "traceback": [
      "\u001b[1;31m---------------------------------------------------------------------------\u001b[0m",
      "\u001b[1;31mValueError\u001b[0m                                Traceback (most recent call last)",
      "Cell \u001b[1;32mIn[74], line 1\u001b[0m\n\u001b[1;32m----> 1\u001b[0m r\u001b[38;5;241m=\u001b[39m \u001b[38;5;28;43mfloat\u001b[39;49m\u001b[43m(\u001b[49m\u001b[38;5;28;43minput\u001b[39;49m\u001b[43m(\u001b[49m\u001b[38;5;124;43m\"\u001b[39;49m\u001b[38;5;124;43menter a num\u001b[39;49m\u001b[38;5;124;43m\"\u001b[39;49m\u001b[43m)\u001b[49m\u001b[43m)\u001b[49m\u001b[38;5;241m.\u001b[39msplit()\n\u001b[0;32m      2\u001b[0m r\u001b[38;5;241m=\u001b[39m \u001b[38;5;28mlist\u001b[39m(\u001b[38;5;28mmap\u001b[39m(\u001b[38;5;28mfloat\u001b[39m,r))\n\u001b[0;32m      3\u001b[0m e\u001b[38;5;241m=\u001b[39m \u001b[38;5;28mint\u001b[39m(\u001b[38;5;28minput\u001b[39m(\u001b[38;5;124m\"\u001b[39m\u001b[38;5;124menter another num\u001b[39m\u001b[38;5;124m\"\u001b[39m))\n",
      "\u001b[1;31mValueError\u001b[0m: could not convert string to float: '1 2 3 4 '"
     ]
    }
   ],
   "source": [
    "r= float(input(\"enter a num\")).split()\n",
    "r= list(map(float,r))\n",
    "e= int(input(\"enter another num\"))\n",
    "k=0\n",
    "for i in r:\n",
    "    if i %2 !=0:\n",
    "        print(i)\n",
    "        k+=i\n",
    "if k>e:\n",
    "    print(\"O\")\n",
    "elif k>e:\n",
    "    print(\"D\")\n",
    "elif k==e:\n",
    "    print(\"L\")"
   ]
  },
  {
   "cell_type": "code",
   "execution_count": null,
   "id": "b2837eed-1a97-43ef-9fc4-c8db3e94fdbc",
   "metadata": {},
   "outputs": [],
   "source": []
  }
 ],
 "metadata": {
  "kernelspec": {
   "display_name": "Python 3 (ipykernel)",
   "language": "python",
   "name": "python3"
  },
  "language_info": {
   "codemirror_mode": {
    "name": "ipython",
    "version": 3
   },
   "file_extension": ".py",
   "mimetype": "text/x-python",
   "name": "python",
   "nbconvert_exporter": "python",
   "pygments_lexer": "ipython3",
   "version": "3.13.0"
  }
 },
 "nbformat": 4,
 "nbformat_minor": 5
}
